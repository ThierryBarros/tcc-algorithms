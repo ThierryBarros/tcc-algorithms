{
 "cells": [
  {
   "cell_type": "code",
   "execution_count": 63,
   "metadata": {},
   "outputs": [],
   "source": [
    "#coloca o path raiz do projeto\n",
    "working_path = \"/home/thierry/Documents/thierry/\""
   ]
  },
  {
   "cell_type": "code",
   "execution_count": 64,
   "metadata": {},
   "outputs": [],
   "source": [
    "import pandas as pd\n",
    "import datetime"
   ]
  },
  {
   "cell_type": "code",
   "execution_count": 65,
   "metadata": {},
   "outputs": [
    {
     "name": "stderr",
     "output_type": "stream",
     "text": [
      "/home/thierry/anaconda3/lib/python3.7/site-packages/ipykernel_launcher.py:3: SettingWithCopyWarning: \n",
      "A value is trying to be set on a copy of a slice from a DataFrame\n",
      "\n",
      "See the caveats in the documentation: http://pandas.pydata.org/pandas-docs/stable/user_guide/indexing.html#returning-a-view-versus-a-copy\n",
      "  This is separate from the ipykernel package so we can avoid doing imports until\n"
     ]
    }
   ],
   "source": [
    "data = pd.read_csv(\"/home/thierry/Documents/thierry/data/0b2b9de31dfcb837.csv\")\n",
    "for i in range(len(data)):\n",
    "    data['date'][i] = datetime.datetime.strptime(data['date'][i], '%a %b %d %H:%M:%S GMT-03:00 %Y').day\n",
    "data['index'] = range(0, len(data))\n",
    "data = data.query('date < 3 or date > 28')"
   ]
  },
  {
   "cell_type": "code",
   "execution_count": 66,
   "metadata": {},
   "outputs": [],
   "source": [
    "data30s = data.iloc[ 0::2 , [13,16]]\n",
    "data60s = data.iloc[ 0::4 , [13,16]]\n",
    "data120s = data.iloc[ 0::8 , [13,16]]\n"
   ]
  },
  {
   "cell_type": "code",
   "execution_count": 72,
   "metadata": {},
   "outputs": [
    {
     "data": {
      "text/html": [
       "<div>\n",
       "<style scoped>\n",
       "    .dataframe tbody tr th:only-of-type {\n",
       "        vertical-align: middle;\n",
       "    }\n",
       "\n",
       "    .dataframe tbody tr th {\n",
       "        vertical-align: top;\n",
       "    }\n",
       "\n",
       "    .dataframe thead th {\n",
       "        text-align: right;\n",
       "    }\n",
       "</style>\n",
       "<table border=\"1\" class=\"dataframe\">\n",
       "  <thead>\n",
       "    <tr style=\"text-align: right;\">\n",
       "      <th></th>\n",
       "      <th>screen</th>\n",
       "      <th>index</th>\n",
       "    </tr>\n",
       "  </thead>\n",
       "  <tbody>\n",
       "    <tr>\n",
       "      <td>281</td>\n",
       "      <td>True</td>\n",
       "      <td>281</td>\n",
       "    </tr>\n",
       "    <tr>\n",
       "      <td>283</td>\n",
       "      <td>True</td>\n",
       "      <td>283</td>\n",
       "    </tr>\n",
       "    <tr>\n",
       "      <td>285</td>\n",
       "      <td>True</td>\n",
       "      <td>285</td>\n",
       "    </tr>\n",
       "    <tr>\n",
       "      <td>287</td>\n",
       "      <td>True</td>\n",
       "      <td>287</td>\n",
       "    </tr>\n",
       "    <tr>\n",
       "      <td>289</td>\n",
       "      <td>True</td>\n",
       "      <td>289</td>\n",
       "    </tr>\n",
       "    <tr>\n",
       "      <td>...</td>\n",
       "      <td>...</td>\n",
       "      <td>...</td>\n",
       "    </tr>\n",
       "    <tr>\n",
       "      <td>8305</td>\n",
       "      <td>True</td>\n",
       "      <td>8305</td>\n",
       "    </tr>\n",
       "    <tr>\n",
       "      <td>8307</td>\n",
       "      <td>True</td>\n",
       "      <td>8307</td>\n",
       "    </tr>\n",
       "    <tr>\n",
       "      <td>8309</td>\n",
       "      <td>True</td>\n",
       "      <td>8309</td>\n",
       "    </tr>\n",
       "    <tr>\n",
       "      <td>8311</td>\n",
       "      <td>True</td>\n",
       "      <td>8311</td>\n",
       "    </tr>\n",
       "    <tr>\n",
       "      <td>8313</td>\n",
       "      <td>True</td>\n",
       "      <td>8313</td>\n",
       "    </tr>\n",
       "  </tbody>\n",
       "</table>\n",
       "<p>4017 rows × 2 columns</p>\n",
       "</div>"
      ],
      "text/plain": [
       "      screen  index\n",
       "281     True    281\n",
       "283     True    283\n",
       "285     True    285\n",
       "287     True    287\n",
       "289     True    289\n",
       "...      ...    ...\n",
       "8305    True   8305\n",
       "8307    True   8307\n",
       "8309    True   8309\n",
       "8311    True   8311\n",
       "8313    True   8313\n",
       "\n",
       "[4017 rows x 2 columns]"
      ]
     },
     "execution_count": 72,
     "metadata": {},
     "output_type": "execute_result"
    }
   ],
   "source": [
    "data30s"
   ]
  },
  {
   "cell_type": "code",
   "execution_count": 67,
   "metadata": {},
   "outputs": [],
   "source": [
    "def find_usage(df,mode):\n",
    "    usage = 0\n",
    "    for i in df.index.values:\n",
    "        if(df['screen'][i]==mode):\n",
    "            usage+=1\n",
    "        \n",
    "    return usage"
   ]
  },
  {
   "cell_type": "code",
   "execution_count": 68,
   "metadata": {},
   "outputs": [],
   "source": [
    "def find_all_usage_False(df,grouping):\n",
    "    usage = 0\n",
    "    for i in range(0,len(df),grouping):\n",
    "        usage += checkUsage_False(df[i:(i+grouping)])\n",
    "    return usage\n",
    "\n",
    "def find_all_usage_True(df,grouping):\n",
    "    usage = 0\n",
    "    for i in range(0,len(df),grouping):\n",
    "        usage += checkUsage_True(df[i:(i+grouping)])\n",
    "    return usage"
   ]
  },
  {
   "cell_type": "code",
   "execution_count": 69,
   "metadata": {},
   "outputs": [],
   "source": [
    "def checkUsage_False(df):\n",
    "    result = True\n",
    "    for i in df.index.values:\n",
    "        result = result and df['screen'][i]\n",
    "    return 1 if not(result) else 0 \n",
    "\n",
    "def checkUsage_True(df):\n",
    "    result = False\n",
    "    for i in df.index.values:\n",
    "        result = result or df['screen'][i]\n",
    "    return 1 if result else 0 "
   ]
  },
  {
   "cell_type": "code",
   "execution_count": 70,
   "metadata": {},
   "outputs": [
    {
     "name": "stdout",
     "output_type": "stream",
     "text": [
      "Porcentagem usage true 30s 0.8612463485881208\n",
      "Porcentagem usage true 60s 0.7436332767402377\n",
      "Porcentagem usage true 120s 0.6742770167427702\n"
     ]
    }
   ],
   "source": [
    "print(\"Porcentagem usage true 30s\",find_usage(data30s, True)/find_all_usage_True(data,2))\n",
    "print(\"Porcentagem usage true 60s\",find_usage(data60s, True)/find_all_usage_True(data,4))\n",
    "print(\"Porcentagem usage true 120s\",find_usage(data120s, True)/find_all_usage_True(data,8))"
   ]
  },
  {
   "cell_type": "code",
   "execution_count": 71,
   "metadata": {},
   "outputs": [
    {
     "name": "stdout",
     "output_type": "stream",
     "text": [
      "Porcentagem usage false 30s 0.8730097087378641\n",
      "Porcentagem usage false 60s 0.8276113951789628\n",
      "Porcentagem usage false 120s 0.7762430939226519\n"
     ]
    }
   ],
   "source": [
    "print(\"Porcentagem usage false 30s\",find_usage(data30s, False)/find_all_usage_False(data,2))\n",
    "print(\"Porcentagem usage false 60s\",find_usage(data60s, False)/find_all_usage_False(data,4))\n",
    "print(\"Porcentagem usage false 120s\",find_usage(data120s, False)/find_all_usage_False(data,8))"
   ]
  }
 ],
 "metadata": {
  "kernelspec": {
   "display_name": "Python 3",
   "language": "python",
   "name": "python3"
  },
  "language_info": {
   "codemirror_mode": {
    "name": "ipython",
    "version": 3
   },
   "file_extension": ".py",
   "mimetype": "text/x-python",
   "name": "python",
   "nbconvert_exporter": "python",
   "pygments_lexer": "ipython3",
   "version": "3.7.4"
  }
 },
 "nbformat": 4,
 "nbformat_minor": 2
}
