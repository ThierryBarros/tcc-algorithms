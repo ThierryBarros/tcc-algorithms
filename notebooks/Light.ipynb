{
 "cells": [
  {
   "cell_type": "code",
   "execution_count": 277,
   "metadata": {},
   "outputs": [],
   "source": [
    "#coloca o path raiz do projeto\n",
    "working_path = \"/home/thierry/Documents/thierry/\""
   ]
  },
  {
   "cell_type": "code",
   "execution_count": 278,
   "metadata": {},
   "outputs": [],
   "source": [
    "import pandas as pd\n",
    "import datetime"
   ]
  },
  {
   "cell_type": "code",
   "execution_count": 279,
   "metadata": {},
   "outputs": [],
   "source": [
    "data = pd.read_csv(\"/home/thierry/Documents/thierry/data/0b2b9de31dfcb837.csv\")"
   ]
  },
  {
   "cell_type": "code",
   "execution_count": 280,
   "metadata": {},
   "outputs": [
    {
     "name": "stderr",
     "output_type": "stream",
     "text": [
      "/home/thierry/anaconda3/lib/python3.7/site-packages/ipykernel_launcher.py:2: SettingWithCopyWarning: \n",
      "A value is trying to be set on a copy of a slice from a DataFrame\n",
      "\n",
      "See the caveats in the documentation: http://pandas.pydata.org/pandas-docs/stable/user_guide/indexing.html#returning-a-view-versus-a-copy\n",
      "  \n"
     ]
    }
   ],
   "source": [
    "for i in range(len(data)):\n",
    "    data['date'][i] = datetime.datetime.strptime(data['date'][i], '%a %b %d %H:%M:%S GMT-03:00 %Y').day"
   ]
  },
  {
   "cell_type": "code",
   "execution_count": 281,
   "metadata": {},
   "outputs": [],
   "source": [
    "data['index'] = range(0, len(data))\n",
    "data = data.query('date < 3 or date > 28')"
   ]
  },
  {
   "cell_type": "code",
   "execution_count": 282,
   "metadata": {},
   "outputs": [],
   "source": [
    "def group_data(df,grouping,column):\n",
    "    dfg = df\n",
    "    for i in dfg.index.values:\n",
    "        dfg['index'][i] = int(i/grouping)\n",
    "    return dfg.groupby('index')[column].mean()"
   ]
  },
  {
   "cell_type": "code",
   "execution_count": 283,
   "metadata": {},
   "outputs": [
    {
     "name": "stderr",
     "output_type": "stream",
     "text": [
      "/home/thierry/anaconda3/lib/python3.7/site-packages/ipykernel_launcher.py:4: SettingWithCopyWarning: \n",
      "A value is trying to be set on a copy of a slice from a DataFrame\n",
      "\n",
      "See the caveats in the documentation: http://pandas.pydata.org/pandas-docs/stable/user_guide/indexing.html#returning-a-view-versus-a-copy\n",
      "  after removing the cwd from sys.path.\n"
     ]
    }
   ],
   "source": [
    "datag30s = group_data(data,2,'light')\n",
    "datag60s =  group_data(data,4,'light')\n",
    "datag120s =  group_data(data,8,'light')"
   ]
  },
  {
   "cell_type": "code",
   "execution_count": 284,
   "metadata": {},
   "outputs": [],
   "source": [
    "data30s = data.iloc[ 0::2 , : ]\n",
    "data60s = data.iloc[ 0::4 , : ]\n",
    "data120s = data.iloc[ 0::8 , : ]"
   ]
  },
  {
   "cell_type": "code",
   "execution_count": 285,
   "metadata": {},
   "outputs": [
    {
     "name": "stdout",
     "output_type": "stream",
     "text": [
      "Média erro 52.8722927557879\n"
     ]
    }
   ],
   "source": [
    "error= 0\n",
    "count = 0\n",
    "for i in data30s.index.values:\n",
    "    error += abs(data30s['light'][i] - datag30s.values[count])\n",
    "    count+=1\n",
    "print(\"Média erro\", error/count)"
   ]
  },
  {
   "cell_type": "code",
   "execution_count": 286,
   "metadata": {},
   "outputs": [
    {
     "name": "stdout",
     "output_type": "stream",
     "text": [
      "Média erro 63.176870748299315\n"
     ]
    }
   ],
   "source": [
    "error= 0\n",
    "count = 0\n",
    "for i in data60s.index.values:\n",
    "    error += abs(data60s['light'][i] - datag60s.values[count])\n",
    "    count+=1\n",
    "print(\"Média erro\", error/count)"
   ]
  },
  {
   "cell_type": "code",
   "execution_count": 287,
   "metadata": {},
   "outputs": [
    {
     "name": "stdout",
     "output_type": "stream",
     "text": [
      "Média erro 58.89350864723999\n"
     ]
    }
   ],
   "source": [
    "error= 0\n",
    "count = 0\n",
    "for i in data120s.index.values:\n",
    "    error += abs(data120s['light'][i] - datag120s.values[count])\n",
    "    count+=1\n",
    "print(\"Média erro\", error/count)"
   ]
  }
 ],
 "metadata": {
  "kernelspec": {
   "display_name": "Python 3",
   "language": "python",
   "name": "python3"
  },
  "language_info": {
   "codemirror_mode": {
    "name": "ipython",
    "version": 3
   },
   "file_extension": ".py",
   "mimetype": "text/x-python",
   "name": "python",
   "nbconvert_exporter": "python",
   "pygments_lexer": "ipython3",
   "version": "3.7.4"
  }
 },
 "nbformat": 4,
 "nbformat_minor": 2
}
