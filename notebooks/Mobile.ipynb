{
 "cells": [
  {
   "cell_type": "code",
   "execution_count": 189,
   "metadata": {},
   "outputs": [],
   "source": [
    "#coloca o path raiz do projeto\n",
    "working_path = \"/home/thierry/Documents/thierry/\""
   ]
  },
  {
   "cell_type": "code",
   "execution_count": 190,
   "metadata": {},
   "outputs": [],
   "source": [
    "import pandas as pd\n",
    "import datetime"
   ]
  },
  {
   "cell_type": "code",
   "execution_count": 191,
   "metadata": {},
   "outputs": [],
   "source": [
    "data = pd.read_csv(\"/home/thierry/Documents/thierry/data/user12.csv\")"
   ]
  },
  {
   "cell_type": "code",
   "execution_count": 192,
   "metadata": {},
   "outputs": [
    {
     "name": "stderr",
     "output_type": "stream",
     "text": [
      "/home/thierry/anaconda3/lib/python3.7/site-packages/ipykernel_launcher.py:2: SettingWithCopyWarning: \n",
      "A value is trying to be set on a copy of a slice from a DataFrame\n",
      "\n",
      "See the caveats in the documentation: http://pandas.pydata.org/pandas-docs/stable/user_guide/indexing.html#returning-a-view-versus-a-copy\n",
      "  \n"
     ]
    }
   ],
   "source": [
    "for i in range(len(data)):\n",
    "    data['date'][i] = datetime.datetime.strptime(data['date'][i], '%a %b %d %H:%M:%S GMT-03:00 %Y').day"
   ]
  },
  {
   "cell_type": "code",
   "execution_count": 193,
   "metadata": {},
   "outputs": [],
   "source": [
    "data['index'] = range(0, len(data))\n",
    "data = data.query('date < 3 or date > 28')"
   ]
  },
  {
   "cell_type": "code",
   "execution_count": 194,
   "metadata": {},
   "outputs": [],
   "source": [
    "def group_data(df,grouping,column):\n",
    "    dfg = df\n",
    "    for i in dfg.index.values:\n",
    "        dfg['index'][i] = int(i/grouping)\n",
    "    return dfg.groupby('index')[column].mean()"
   ]
  },
  {
   "cell_type": "code",
   "execution_count": 195,
   "metadata": {},
   "outputs": [
    {
     "name": "stderr",
     "output_type": "stream",
     "text": [
      "/home/thierry/anaconda3/lib/python3.7/site-packages/ipykernel_launcher.py:4: SettingWithCopyWarning: \n",
      "A value is trying to be set on a copy of a slice from a DataFrame\n",
      "\n",
      "See the caveats in the documentation: http://pandas.pydata.org/pandas-docs/stable/user_guide/indexing.html#returning-a-view-versus-a-copy\n",
      "  after removing the cwd from sys.path.\n"
     ]
    }
   ],
   "source": [
    "datag30s = group_data(data,2,'screen')\n",
    "datag60s =  group_data(data,4,'screen')\n",
    "datag120s =  group_data(data,8,'screen')"
   ]
  },
  {
   "cell_type": "code",
   "execution_count": 196,
   "metadata": {},
   "outputs": [],
   "source": [
    "data30s = data.iloc[ 0::2 , : ]\n",
    "data60s = data.iloc[ 0::4 , : ]\n",
    "data120s = data.iloc[ 0::8 , : ]"
   ]
  },
  {
   "cell_type": "code",
   "execution_count": 197,
   "metadata": {},
   "outputs": [],
   "source": [
    "def convert_value(data):\n",
    "    df = data\n",
    "    df['screen_int'] = range(0, len(data))\n",
    "    for i in df.index.values:\n",
    "        if(df['screen'][i]):\n",
    "            df['screen_int'][i] = 1\n",
    "        else:\n",
    "            df['screen_int'][i] = 0\n",
    "    return df\n"
   ]
  },
  {
   "cell_type": "code",
   "execution_count": 198,
   "metadata": {},
   "outputs": [
    {
     "name": "stderr",
     "output_type": "stream",
     "text": [
      "/home/thierry/anaconda3/lib/python3.7/site-packages/ipykernel_launcher.py:3: SettingWithCopyWarning: \n",
      "A value is trying to be set on a copy of a slice from a DataFrame.\n",
      "Try using .loc[row_indexer,col_indexer] = value instead\n",
      "\n",
      "See the caveats in the documentation: http://pandas.pydata.org/pandas-docs/stable/user_guide/indexing.html#returning-a-view-versus-a-copy\n",
      "  This is separate from the ipykernel package so we can avoid doing imports until\n",
      "/home/thierry/anaconda3/lib/python3.7/site-packages/ipykernel_launcher.py:8: SettingWithCopyWarning: \n",
      "A value is trying to be set on a copy of a slice from a DataFrame\n",
      "\n",
      "See the caveats in the documentation: http://pandas.pydata.org/pandas-docs/stable/user_guide/indexing.html#returning-a-view-versus-a-copy\n",
      "  \n",
      "/home/thierry/anaconda3/lib/python3.7/site-packages/ipykernel_launcher.py:1: SettingWithCopyWarning: \n",
      "A value is trying to be set on a copy of a slice from a DataFrame\n",
      "\n",
      "See the caveats in the documentation: http://pandas.pydata.org/pandas-docs/stable/user_guide/indexing.html#returning-a-view-versus-a-copy\n",
      "  \"\"\"Entry point for launching an IPython kernel.\n",
      "/home/thierry/anaconda3/lib/python3.7/site-packages/ipykernel_launcher.py:6: SettingWithCopyWarning: \n",
      "A value is trying to be set on a copy of a slice from a DataFrame\n",
      "\n",
      "See the caveats in the documentation: http://pandas.pydata.org/pandas-docs/stable/user_guide/indexing.html#returning-a-view-versus-a-copy\n",
      "  \n",
      "/home/thierry/anaconda3/lib/python3.7/site-packages/ipykernel_launcher.py:2: SettingWithCopyWarning: \n",
      "A value is trying to be set on a copy of a slice from a DataFrame\n",
      "\n",
      "See the caveats in the documentation: http://pandas.pydata.org/pandas-docs/stable/user_guide/indexing.html#returning-a-view-versus-a-copy\n",
      "  \n",
      "/home/thierry/anaconda3/lib/python3.7/site-packages/ipykernel_launcher.py:3: SettingWithCopyWarning: \n",
      "A value is trying to be set on a copy of a slice from a DataFrame\n",
      "\n",
      "See the caveats in the documentation: http://pandas.pydata.org/pandas-docs/stable/user_guide/indexing.html#returning-a-view-versus-a-copy\n",
      "  This is separate from the ipykernel package so we can avoid doing imports until\n"
     ]
    }
   ],
   "source": [
    "data30s = convert_value(data30s)\n",
    "data60s = convert_value(data60s)\n",
    "data120s = convert_value(data120s)"
   ]
  },
  {
   "cell_type": "code",
   "execution_count": 199,
   "metadata": {},
   "outputs": [
    {
     "name": "stdout",
     "output_type": "stream",
     "text": [
      "Média erro 0.03449414094735105\n"
     ]
    }
   ],
   "source": [
    "error= 0\n",
    "count = 0\n",
    "for i in data30s.index.values:\n",
    "    error += abs(data30s['screen_int'][i] - datag30s.values[count])\n",
    "    count+=1\n",
    "print(\"Média erro\", error/count)"
   ]
  },
  {
   "cell_type": "code",
   "execution_count": 200,
   "metadata": {},
   "outputs": [
    {
     "name": "stdout",
     "output_type": "stream",
     "text": [
      "Média erro 0.0632013201320132\n"
     ]
    }
   ],
   "source": [
    "error= 0\n",
    "count = 0\n",
    "for i in data60s.index.values:\n",
    "    error += abs(data60s['screen_int'][i] - datag60s.values[count])\n",
    "    count+=1\n",
    "print(\"Média erro\", error/count)"
   ]
  },
  {
   "cell_type": "code",
   "execution_count": 201,
   "metadata": {},
   "outputs": [
    {
     "name": "stdout",
     "output_type": "stream",
     "text": [
      "Média erro 0.0735973597359736\n"
     ]
    }
   ],
   "source": [
    "error= 0\n",
    "count = 0\n",
    "for i in data120s.index.values:\n",
    "    error += abs(data120s['screen_int'][i] - datag120s.values[count])\n",
    "    count+=1\n",
    "print(\"Média erro\", error/count)"
   ]
  },
  {
   "cell_type": "code",
   "execution_count": 202,
   "metadata": {},
   "outputs": [],
   "source": [
    "def count_usage_true(data):\n",
    "    usage = 0\n",
    "    for i in data.index.values:\n",
    "        usage += data['screen_int'][i]\n",
    "    return usage\n",
    "\n",
    "def count_usage_false(data):\n",
    "    usage = 0\n",
    "    for i in data.index.values:\n",
    "        usage += data['screen_int'][i]\n",
    "    return len(data) - usage"
   ]
  },
  {
   "cell_type": "code",
   "execution_count": 203,
   "metadata": {},
   "outputs": [],
   "source": [
    "def count_all_usage_true(data):\n",
    "    usage = 0\n",
    "    for i in range(len(data)):\n",
    "        if(data.values[i]>0):\n",
    "            usage +=1\n",
    "    return usage\n",
    "\n",
    "def count_all_usage_false(data):\n",
    "    usage = 0\n",
    "    for i in range(len(data)):\n",
    "        if(data.values[i]!=1):\n",
    "            usage +=1\n",
    "    return usage"
   ]
  },
  {
   "cell_type": "code",
   "execution_count": 204,
   "metadata": {},
   "outputs": [
    {
     "name": "stdout",
     "output_type": "stream",
     "text": [
      "Porcentagem usage true 30s 0.9387944358578053\n",
      "Porcentagem usage true 60s 0.8747826086956522\n",
      "Porcentagem usage true 120s 0.8300438596491229\n"
     ]
    }
   ],
   "source": [
    "print(\"Porcentagem usage true 30s\",count_usage_true(data30s)/count_all_usage_true(datag30s))\n",
    "print(\"Porcentagem usage true 60s\",count_usage_true(data60s)/count_all_usage_true(datag60s))\n",
    "print(\"Porcentagem usage true 120s\",count_usage_true(data120s)/count_all_usage_true(datag120s))"
   ]
  },
  {
   "cell_type": "code",
   "execution_count": 205,
   "metadata": {},
   "outputs": [
    {
     "name": "stdout",
     "output_type": "stream",
     "text": [
      "Porcentagem usage false 30s 0.9315659679408138\n",
      "Porcentagem usage false 60s 0.8761520737327189\n",
      "Porcentagem usage false 120s 0.8089647812166488\n"
     ]
    }
   ],
   "source": [
    "print(\"Porcentagem usage false 30s\",count_usage_false(data30s)/count_all_usage_false(datag30s))\n",
    "print(\"Porcentagem usage false 60s\",count_usage_false(data60s)/count_all_usage_false(datag60s))\n",
    "print(\"Porcentagem usage false 120s\",count_usage_false(data120s)/count_all_usage_false(datag120s))"
   ]
  },
  {
   "cell_type": "code",
   "execution_count": null,
   "metadata": {},
   "outputs": [],
   "source": []
  }
 ],
 "metadata": {
  "kernelspec": {
   "display_name": "Python 3",
   "language": "python",
   "name": "python3"
  },
  "language_info": {
   "codemirror_mode": {
    "name": "ipython",
    "version": 3
   },
   "file_extension": ".py",
   "mimetype": "text/x-python",
   "name": "python",
   "nbconvert_exporter": "python",
   "pygments_lexer": "ipython3",
   "version": "3.7.4"
  }
 },
 "nbformat": 4,
 "nbformat_minor": 2
}
